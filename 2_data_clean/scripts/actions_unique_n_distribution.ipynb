{
 "cells": [
  {
   "cell_type": "markdown",
   "id": "9018a8a2-d579-450e-959a-9767459f1511",
   "metadata": {},
   "source": [
    "# This will find the number of cases for each action\n",
    "### Input file \"nocheyniebla_casos_1999_2024Unique.xlsx\""
   ]
  },
  {
   "cell_type": "code",
   "execution_count": 1,
   "id": "1f723a45-ff91-4bc8-83a6-cdaa13867d2d",
   "metadata": {},
   "outputs": [],
   "source": [
    "import pandas as pd\n",
    "import re\n",
    "\n",
    "file_path = r\"C:\\Users\\brike\\OneDrive\\Desktop\\RA\\RA FA 25\\VIPAA corpus\\upload in Github\\nocheyniebla_casos_1999_2024Unique.xlsx\"\n",
    "sheet_labels = \"what\"\n",
    "sheet_cases = \"nocheyniebla_casos_1999_2024\"\n",
    "\n",
    "labels_df = pd.read_excel(file_path, sheet_name=sheet_labels)\n",
    "cases_df = pd.read_excel(file_path, sheet_name=sheet_cases)\n",
    "\n",
    "assert \"actions_clean\" in labels_df.columns\n",
    "assert \"Tipificacion\" in cases_df.columns\n",
    "\n",
    "def count_occurrences(label):\n",
    "    lab = str(label).strip()\n",
    "    pattern = fr\"\\b{re.escape(lab)}\\b\"  # match full label as a word\n",
    "    return cases_df[\"Tipificacion\"].astype(str).apply(\n",
    "        lambda x: bool(re.search(pattern, x, flags=re.IGNORECASE))\n",
    "    ).sum()\n",
    "\n",
    "labels_df[\"times_used\"] = labels_df[\"actions_clean\"].apply(count_occurrences)\n",
    "\n",
    "with pd.ExcelWriter(file_path, engine=\"openpyxl\", mode=\"a\", if_sheet_exists=\"replace\") as writer:\n",
    "    labels_df.to_excel(writer, sheet_name=sheet_labels, index=False)\n",
    "\n",
    "print(\"Done!\")\n"
   ]
  },
  {
   "cell_type": "code",
   "execution_count": null,
   "id": "609f9431-db1c-4dc3-aa1f-5f9f30efa6f2",
   "metadata": {},
   "outputs": [],
   "source": []
  }
 ],
 "metadata": {
  "kernelspec": {
   "display_name": "Python 3 (ipykernel)",
   "language": "python",
   "name": "python3"
  },
  "language_info": {
   "codemirror_mode": {
    "name": "ipython",
    "version": 3
   },
   "file_extension": ".py",
   "mimetype": "text/x-python",
   "name": "python",
   "nbconvert_exporter": "python",
   "pygments_lexer": "ipython3",
   "version": "3.12.7"
  }
 },
 "nbformat": 4,
 "nbformat_minor": 5
}
